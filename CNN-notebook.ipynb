{
 "cells": [
  {
   "cell_type": "markdown",
   "metadata": {},
   "source": [
    "# Introduction\n",
    "\n",
    "Currently, one of the most common (and accurate) methods for conducting a Blood\n",
    "Smear is manually. The goal of this project is to develop a neural network that can classify WBCs from images as part of an eventual effort to automate the procedure without a significant loss in accuracy. By automating this process, we can not only speed it up, but we also reduce the amount of human labor required to conduct a test, thus lowering the overall cost.\n",
    "\n",
    "The dataset for this project is a collection of ~12,500 images that are 240 x 320. The images contain several RBCs and a single, highlighted WBC. Each WBC falls into one of four categories: Eosinophil, Lymphocyte, Monocyte, or Neutrophil. The dataset can be found on Kaggle [here](https://www.kaggle.com/paultimothymooney/blood-cells). Through accurate classification, accurate proportions of each WBC type could be calculated and checked for normalcy. Additionally, cell images could be further inspected for abnormalities."
   ]
  },
  {
   "cell_type": "markdown",
   "metadata": {},
   "source": [
    "# Module Imports"
   ]
  },
  {
   "cell_type": "code",
   "execution_count": 1,
   "metadata": {},
   "outputs": [],
   "source": [
    "import numpy as np\n",
    "import pandas as pd\n",
    "import seaborn as sns\n",
    "from PIL import Image\n",
    "from tqdm import tqdm\n",
    "import os\n",
    "import matplotlib.pyplot as plt\n",
    "%matplotlib inline\n",
    "\n",
    "\n",
    "import warnings  \n",
    "with warnings.catch_warnings():  \n",
    "    warnings.filterwarnings(\"ignore\",category=FutureWarning)\n",
    "    import tensorflow as tf\n",
    "\n",
    "from tensorflow.keras.models import Sequential\n",
    "from tensorflow.keras.layers import Conv2D, MaxPooling2D\n",
    "from tensorflow.keras.layers import Activation, Dropout, Flatten, Dense\n",
    "from tensorflow.keras.preprocessing.image import ImageDataGenerator, array_to_img, img_to_array, load_img\n",
    "from tensorflow.keras.utils import to_categorical\n",
    "from tensorflow.keras.optimizers import Adadelta"
   ]
  },
  {
   "cell_type": "markdown",
   "metadata": {},
   "source": [
    "# Data Exploration\n",
    "\n",
    "Let's begin by taking a look at an example of each of the four types of WBC we'll be attempting to classify."
   ]
  },
  {
   "cell_type": "code",
   "execution_count": 2,
   "metadata": {},
   "outputs": [
    {
     "name": "stderr",
     "output_type": "stream",
     "text": [
      "\r",
      "  0%|                                                 | 0/2497 [00:00<?, ?it/s]"
     ]
    },
    {
     "name": "stdout",
     "output_type": "stream",
     "text": [
      "Loading EOSINOPHIL Training Image Files\n"
     ]
    },
    {
     "name": "stderr",
     "output_type": "stream",
     "text": [
      "100%|██████████████████████████████████████| 2497/2497 [00:40<00:00, 61.44it/s]\n",
      "  1%|▎                                         | 5/623 [00:00<00:13, 46.45it/s]"
     ]
    },
    {
     "name": "stdout",
     "output_type": "stream",
     "text": [
      "Loading EOSINOPHIL Testing Image Files\n"
     ]
    },
    {
     "name": "stderr",
     "output_type": "stream",
     "text": [
      "100%|████████████████████████████████████████| 623/623 [00:11<00:00, 55.73it/s]\n",
      "  0%|                                         | 6/2499 [00:00<00:43, 56.87it/s]"
     ]
    },
    {
     "name": "stdout",
     "output_type": "stream",
     "text": [
      "Loading NEUTROPHIL Training Image Files\n"
     ]
    },
    {
     "name": "stderr",
     "output_type": "stream",
     "text": [
      "100%|██████████████████████████████████████| 2499/2499 [00:34<00:00, 71.43it/s]\n",
      "  1%|▍                                         | 7/624 [00:00<00:09, 63.02it/s]"
     ]
    },
    {
     "name": "stdout",
     "output_type": "stream",
     "text": [
      "Loading NEUTROPHIL Testing Image Files\n"
     ]
    },
    {
     "name": "stderr",
     "output_type": "stream",
     "text": [
      "100%|████████████████████████████████████████| 624/624 [00:09<00:00, 65.85it/s]\n",
      "  0%|                                         | 6/2483 [00:00<00:49, 49.68it/s]"
     ]
    },
    {
     "name": "stdout",
     "output_type": "stream",
     "text": [
      "Loading LYMPHOCYTE Training Image Files\n"
     ]
    },
    {
     "name": "stderr",
     "output_type": "stream",
     "text": [
      "100%|██████████████████████████████████████| 2483/2483 [00:36<00:00, 67.59it/s]\n",
      "  1%|▍                                         | 7/620 [00:00<00:10, 60.67it/s]"
     ]
    },
    {
     "name": "stdout",
     "output_type": "stream",
     "text": [
      "Loading LYMPHOCYTE Testing Image Files\n"
     ]
    },
    {
     "name": "stderr",
     "output_type": "stream",
     "text": [
      "100%|████████████████████████████████████████| 620/620 [00:11<00:00, 54.34it/s]\n",
      "  0%|                                         | 7/2478 [00:00<00:35, 69.73it/s]"
     ]
    },
    {
     "name": "stdout",
     "output_type": "stream",
     "text": [
      "Loading MONOCYTE Training Image Files\n"
     ]
    },
    {
     "name": "stderr",
     "output_type": "stream",
     "text": [
      "100%|██████████████████████████████████████| 2478/2478 [00:41<00:00, 60.33it/s]\n",
      "  1%|▎                                         | 4/620 [00:00<00:20, 29.83it/s]"
     ]
    },
    {
     "name": "stdout",
     "output_type": "stream",
     "text": [
      "Loading MONOCYTE Testing Image Files\n"
     ]
    },
    {
     "name": "stderr",
     "output_type": "stream",
     "text": [
      "100%|████████████████████████████████████████| 620/620 [00:14<00:00, 42.44it/s]\n"
     ]
    },
    {
     "data": {
      "text/plain": [
       "<Figure size 720x576 with 0 Axes>"
      ]
     },
     "metadata": {},
     "output_type": "display_data"
    }
   ],
   "source": [
    "wbc_types = ['EOSINOPHIL', 'NEUTROPHIL', 'LYMPHOCYTE', 'MONOCYTE']\n",
    "wbc_df = pd.DataFrame(columns=['file_name', 'type', 'group'])\n",
    "X_train = []\n",
    "X_test = []\n",
    "y_train = []\n",
    "y_test = []\n",
    "\n",
    "plt.figure(figsize=(10,8))\n",
    "\n",
    "for i, wbc_type in enumerate(wbc_types):\n",
    "    path = 'dataset2-master/images/TRAIN/' + wbc_type + '/'\n",
    "    files = os.listdir(path)\n",
    "    print(\"Loading {} Training Image Files\".format(wbc_type))\n",
    "    for file in tqdm(files):\n",
    "        image = load_img(path + file)\n",
    "        image = image.resize((150,150))\n",
    "        new_row = {'file_name': file,\n",
    "                   'type': wbc_type, \n",
    "                   'group': 'train'}\n",
    "        wbc_df = wbc_df.append(new_row, ignore_index=True)\n",
    "        X_train.append(np.asarray(image))\n",
    "        y_train.append(i)\n",
    "    path2 = 'dataset2-master/images/TEST/' + wbc_type + '/'\n",
    "    files2 = os.listdir(path2)\n",
    "    print(\"Loading {} Testing Image Files\".format(wbc_type))\n",
    "    for file2 in tqdm(files2):\n",
    "        image = load_img(path2 + file2)\n",
    "        image = image.resize((150,150))\n",
    "        new_row = {'file_name': file2,\n",
    "                   'type': wbc_type,\n",
    "                   'group': 'test'}\n",
    "        wbc_df = wbc_df.append(new_row, ignore_index=True)\n",
    "        X_test.append(np.asarray(image))\n",
    "        y_test.append(i)\n",
    "    \n",
    "#     df = pd.DataFrame(columns=['file_name', 'type'])\n",
    "#     df['file_name'] = files\n",
    "#     df.fillna(value=wbc_type, inplace=True)\n",
    "#     wbc_df = wbc_df.append(df)\n",
    "    \n",
    "#     image = load_img(path + files[0])\n",
    "#     plt.subplot(2,2,i+1)\n",
    "#     plt.title(wbc_type)\n",
    "#     plt.axis('off')\n",
    "#     plt.imshow(image)\n",
    "    \n",
    "# plt.tight_layout()\n",
    "# plt.show()"
   ]
  },
  {
   "cell_type": "code",
   "execution_count": 3,
   "metadata": {},
   "outputs": [
    {
     "data": {
      "image/png": "[encoded data removed]",
      "text/plain": [
       "<Figure size 432x288 with 1 Axes>"
      ]
     },
     "metadata": {
      "needs_background": "light"
     },
     "output_type": "display_data"
    }
   ],
   "source": [
    "sns.countplot(x='group', hue='type', data=wbc_df)\n",
    "plt.show()"
   ]
  },
  {
   "cell_type": "code",
   "execution_count": 4,
   "metadata": {},
   "outputs": [],
   "source": [
    "X_train = np.asarray(X_train)\n",
    "X_train = X_train/255.0\n",
    "\n",
    "y_train = np.asarray(y_train)\n",
    "y_train = to_categorical(y_train, num_classes=4)\n",
    "\n",
    "X_test = np.asarray(X_test)\n",
    "X_test = X_test/255.0\n",
    "\n",
    "y_test = np.asarray(y_test)\n",
    "y_test = to_categorical(y_test, num_classes=4)"
   ]
  },
  {
   "cell_type": "code",
   "execution_count": null,
   "metadata": {},
   "outputs": [],
   "source": [
    "y_train.shape"
   ]
  },
  {
   "cell_type": "markdown",
   "metadata": {},
   "source": [
    "The images show that each of the four cell types are quite easily visually differentiable. Additionally, we can see from the countplot that our training data is very well balanced with ~2,500 images of each WBC cell type."
   ]
  },
  {
   "cell_type": "markdown",
   "metadata": {},
   "source": [
    "# Model Construction\n",
    "\n",
    "Since the input to be classified are image files, we will be using a Convolutional Neural Network for these purposes. "
   ]
  },
  {
   "cell_type": "code",
   "execution_count": 5,
   "metadata": {},
   "outputs": [
    {
     "name": "stdout",
     "output_type": "stream",
     "text": [
      "WARNING:tensorflow:From C:\\Users\\Andrew\\Anaconda3\\lib\\site-packages\\tensorflow\\python\\ops\\init_ops.py:1251: calling VarianceScaling.__init__ (from tensorflow.python.ops.init_ops) with dtype is deprecated and will be removed in a future version.\n",
      "Instructions for updating:\n",
      "Call initializer instance with the dtype argument instead of passing it to the constructor\n"
     ]
    }
   ],
   "source": [
    "batch_size = 128\n",
    "image_height = 150\n",
    "image_width = 150\n",
    "\n",
    "# model accuracy reached 0.3155 after 1.5 hours and 30 epochs\n",
    "model = Sequential()\n",
    "model.add(Conv2D(32, (3, 3), input_shape=(image_height,image_width,3)))\n",
    "model.add(Activation('relu'))\n",
    "model.add(MaxPooling2D(pool_size=(2, 2)))\n",
    "\n",
    "model.add(Conv2D(64, (3, 3)))\n",
    "model.add(Activation('relu'))\n",
    "model.add(MaxPooling2D(pool_size=(2, 2)))\n",
    "\n",
    "model.add(Flatten())\n",
    "model.add(Dense(128))\n",
    "model.add(Activation('relu'))\n",
    "model.add(Dense(64))\n",
    "model.add(Activation('relu'))\n",
    "#model.add(Dropout(0.5))\n",
    "model.add(Dense(4))\n",
    "model.add(Activation('softmax'))\n",
    "\n",
    "optimizer = Adadelta()\n",
    "\n",
    "model.compile(loss='categorical_crossentropy',\n",
    "              optimizer=optimizer,\n",
    "              metrics=['accuracy'])"
   ]
  },
  {
   "cell_type": "code",
   "execution_count": 6,
   "metadata": {},
   "outputs": [],
   "source": [
    "# this is the augmentation configuration we will use for training\n",
    "train_datagen = ImageDataGenerator(\n",
    "        featurewise_center=False,  # set input mean to 0 over the dataset\n",
    "        samplewise_center=False,  # set each sample mean to 0\n",
    "        featurewise_std_normalization=False,  # divide inputs by std of the dataset\n",
    "        samplewise_std_normalization=False,  # divide each input by its std\n",
    "        zca_whitening=False,  # apply ZCA whitening\n",
    "        rotation_range=10,  # randomly rotate images in the range (degrees, 0 to 180)\n",
    "        width_shift_range=0.1,  # randomly shift images horizontally (fraction of total width)\n",
    "        height_shift_range=0.1,  # randomly shift images vertically (fraction of total height)\n",
    "        horizontal_flip=True,  # randomly flip images\n",
    "        vertical_flip=False)  # randomly flip images"
   ]
  },
  {
   "cell_type": "code",
   "execution_count": 7,
   "metadata": {
    "scrolled": true
   },
   "outputs": [
    {
     "name": "stdout",
     "output_type": "stream",
     "text": [
      "Epoch 1/30\n",
      "311/311 [==============================] - 180s 580ms/step - loss: 1.3885 - acc: 0.2489 - val_loss: 1.3880 - val_acc: 0.2477\n",
      "Epoch 2/30\n",
      "311/311 [==============================] - 174s 559ms/step - loss: 1.3875 - acc: 0.2507 - val_loss: 1.3877 - val_acc: 0.2465\n",
      "Epoch 3/30\n",
      "311/311 [==============================] - 174s 559ms/step - loss: 1.3870 - acc: 0.2546 - val_loss: 1.3852 - val_acc: 0.2694\n",
      "Epoch 4/30\n",
      "311/311 [==============================] - 184s 590ms/step - loss: 1.3856 - acc: 0.2628 - val_loss: 1.3861 - val_acc: 0.2682\n",
      "Epoch 5/30\n",
      "311/311 [==============================] - 182s 585ms/step - loss: 1.3854 - acc: 0.2634 - val_loss: 1.3834 - val_acc: 0.2778\n",
      "Epoch 6/30\n",
      "311/311 [==============================] - 184s 593ms/step - loss: 1.3846 - acc: 0.2672 - val_loss: 1.3823 - val_acc: 0.2537\n",
      "Epoch 7/30\n",
      "311/311 [==============================] - 185s 595ms/step - loss: 1.3843 - acc: 0.2714 - val_loss: 1.3821 - val_acc: 0.2730\n",
      "Epoch 8/30\n",
      "311/311 [==============================] - 184s 591ms/step - loss: 1.3833 - acc: 0.2720 - val_loss: 1.3804 - val_acc: 0.2766\n",
      "Epoch 9/30\n",
      "311/311 [==============================] - 184s 592ms/step - loss: 1.3827 - acc: 0.2720 - val_loss: 1.3794 - val_acc: 0.3112\n",
      "Epoch 10/30\n",
      "311/311 [==============================] - 179s 575ms/step - loss: 1.3826 - acc: 0.2756 - val_loss: 1.3787 - val_acc: 0.3494\n",
      "Epoch 11/30\n",
      "311/311 [==============================] - 178s 571ms/step - loss: 1.3819 - acc: 0.2826 - val_loss: 1.3781 - val_acc: 0.2984\n",
      "Epoch 12/30\n",
      "311/311 [==============================] - 176s 564ms/step - loss: 1.3809 - acc: 0.2797 - val_loss: 1.3771 - val_acc: 0.3237\n",
      "Epoch 13/30\n",
      "311/311 [==============================] - 178s 572ms/step - loss: 1.3803 - acc: 0.2894 - val_loss: 1.3761 - val_acc: 0.2887\n",
      "Epoch 14/30\n",
      "311/311 [==============================] - 178s 571ms/step - loss: 1.3788 - acc: 0.2958 - val_loss: 1.3758 - val_acc: 0.2811\n",
      "Epoch 15/30\n",
      "311/311 [==============================] - 176s 565ms/step - loss: 1.3785 - acc: 0.2916 - val_loss: 1.3745 - val_acc: 0.3116\n",
      "Epoch 16/30\n",
      "311/311 [==============================] - 179s 577ms/step - loss: 1.3782 - acc: 0.2990 - val_loss: 1.3738 - val_acc: 0.3257\n",
      "Epoch 17/30\n",
      "311/311 [==============================] - 184s 592ms/step - loss: 1.3767 - acc: 0.3056 - val_loss: 1.3729 - val_acc: 0.3325\n",
      "Epoch 18/30\n",
      "311/311 [==============================] - 183s 589ms/step - loss: 1.3757 - acc: 0.3052 - val_loss: 1.3699 - val_acc: 0.3695\n",
      "Epoch 19/30\n",
      "311/311 [==============================] - 183s 589ms/step - loss: 1.3749 - acc: 0.3086 - val_loss: 1.3692 - val_acc: 0.3241\n",
      "Epoch 20/30\n",
      "311/311 [==============================] - 179s 576ms/step - loss: 1.3738 - acc: 0.3075 - val_loss: 1.3690 - val_acc: 0.3052\n",
      "Epoch 21/30\n",
      "311/311 [==============================] - 178s 572ms/step - loss: 1.3734 - acc: 0.3100 - val_loss: 1.3681 - val_acc: 0.2947\n",
      "Epoch 22/30\n",
      "311/311 [==============================] - 183s 587ms/step - loss: 1.3721 - acc: 0.3138 - val_loss: 1.3651 - val_acc: 0.3116\n",
      "Epoch 23/30\n",
      "311/311 [==============================] - 180s 579ms/step - loss: 1.3717 - acc: 0.3158 - val_loss: 1.3634 - val_acc: 0.3398\n",
      "Epoch 24/30\n",
      "311/311 [==============================] - 182s 585ms/step - loss: 1.3705 - acc: 0.3163 - val_loss: 1.3623 - val_acc: 0.3261\n",
      "Epoch 25/30\n",
      "311/311 [==============================] - 181s 581ms/step - loss: 1.3699 - acc: 0.3301 - val_loss: 1.3603 - val_acc: 0.3844\n",
      "Epoch 26/30\n",
      "311/311 [==============================] - 180s 579ms/step - loss: 1.3682 - acc: 0.3333 - val_loss: 1.3617 - val_acc: 0.3438\n",
      "Epoch 27/30\n",
      "311/311 [==============================] - 179s 577ms/step - loss: 1.3677 - acc: 0.3262 - val_loss: 1.3599 - val_acc: 0.3623\n",
      "Epoch 28/30\n",
      "311/311 [==============================] - 177s 570ms/step - loss: 1.3663 - acc: 0.3277 - val_loss: 1.3593 - val_acc: 0.3398\n",
      "Epoch 29/30\n",
      "311/311 [==============================] - 178s 571ms/step - loss: 1.3653 - acc: 0.3247 - val_loss: 1.3563 - val_acc: 0.3052\n",
      "Epoch 30/30\n",
      "311/311 [==============================] - 178s 573ms/step - loss: 1.3637 - acc: 0.3368 - val_loss: 1.3503 - val_acc: 0.3928\n"
     ]
    },
    {
     "data": {
      "text/plain": [
       "<tensorflow.python.keras.callbacks.History at 0x7584813708>"
      ]
     },
     "execution_count": 7,
     "metadata": {},
     "output_type": "execute_result"
    }
   ],
   "source": [
    "model.fit(train_datagen.flow(X_train, y_train, batch_size=32),\n",
    "          steps_per_epoch=len(X_train) // 32,\n",
    "          epochs=30,\n",
    "          validation_data=(X_test, y_test),\n",
    "          validation_steps=2487 // 32)\n",
    "#model.save_weights('first_try.h5')  # always save your weights after training or during training"
   ]
  },
  {
   "cell_type": "code",
   "execution_count": null,
   "metadata": {},
   "outputs": [],
   "source": []
  }
 ],
 "metadata": {
  "kernelspec": {
   "display_name": "Python 3",
   "language": "python",
   "name": "python3"
  },
  "language_info": {
   "codemirror_mode": {
    "name": "ipython",
    "version": 3
   },
   "file_extension": ".py",
   "mimetype": "text/x-python",
   "name": "python",
   "nbconvert_exporter": "python",
   "pygments_lexer": "ipython3",
   "version": "3.7.4"
  }
 },
 "nbformat": 4,
 "nbformat_minor": 4
}
