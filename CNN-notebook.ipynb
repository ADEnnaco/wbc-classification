{
 "cells": [
  {
   "cell_type": "markdown",
   "metadata": {},
   "source": [
    "# Introduction\n",
    "\n",
    "Currently, one of the most common (and accurate) methods for conducting a Blood\n",
    "Smear is manually. The goal of this project is to develop a neural network that can classify WBCs from images as part of an eventual effort to automate the procedure without a significant loss in accuracy. By automating this process, we can not only speed it up, but we also reduce the amount of human labor required to conduct a test, thus lowering the overall cost.\n",
    "\n",
    "The dataset for this project is a collection of ~12,500 images that are 240 x 320. The images contain several RBCs and a single, highlighted WBC. Each WBC falls into one of four categories: Eosinophil, Lymphocyte, Monocyte, or Neutrophil. The dataset can be found on Kaggle [here](https://www.kaggle.com/paultimothymooney/blood-cells). Through accurate classification, accurate proportions of each WBC type could be calculated and checked for normalcy. Additionally, cell images could be further inspected for abnormalities."
   ]
  },
  {
   "cell_type": "markdown",
   "metadata": {},
   "source": [
    "# Module Imports"
   ]
  },
  {
   "cell_type": "code",
   "execution_count": 1,
   "metadata": {},
   "outputs": [
    {
     "name": "stderr",
     "output_type": "stream",
     "text": [
      "Using TensorFlow backend.\n"
     ]
    }
   ],
   "source": [
    "import numpy as np\n",
    "import pandas as pd\n",
    "import seaborn as sns\n",
    "from PIL import Image\n",
    "from tqdm import tqdm\n",
    "import os\n",
    "import matplotlib.pyplot as plt\n",
    "import time\n",
    "%matplotlib inline\n",
    "\n",
    "\n",
    "import warnings  \n",
    "with warnings.catch_warnings():  \n",
    "    warnings.filterwarnings(\"ignore\",category=FutureWarning)\n",
    "    import keras\n",
    "\n",
    "from keras.models import Sequential\n",
    "from keras.layers import Conv2D, MaxPool2D, Activation, Dropout, Flatten, Dense\n",
    "from keras.preprocessing.image import ImageDataGenerator\n",
    "from keras.utils import to_categorical"
   ]
  },
  {
   "cell_type": "markdown",
   "metadata": {},
   "source": [
    "# Data Exploration\n",
    "\n",
    "Let's begin by taking a look at an example of each of the four types of WBC we'll be attempting to classify."
   ]
  },
  {
   "cell_type": "code",
   "execution_count": 2,
   "metadata": {},
   "outputs": [],
   "source": [
    "def fetch_data(directory, classes, im_size):\n",
    "    X_train, y_train, X_test, y_test = [],[],[],[]\n",
    "    wbc_df = pd.DataFrame(columns=['file_name', 'type', 'group'])\n",
    "    for i, wbc_type in enumerate(classes):\n",
    "        path = directory + 'TRAIN/' + wbc_type + '/'\n",
    "        files = os.listdir(path)\n",
    "        print(\"Fetching {} Image Files\".format(wbc_type.title()))\n",
    "        time.sleep(0.25)\n",
    "        for file in tqdm(files):\n",
    "            image = plt.imread(path + file)\n",
    "            im_arr = np.array(Image.fromarray(image).resize(size))\n",
    "            im_arr = im_arr / 255.\n",
    "            X_train.append(im_arr)\n",
    "            y_train.append(i+1)\n",
    "            \n",
    "            new_row = {'file_name': file,\n",
    "                       'type': wbc_type, \n",
    "                       'group': 'train'}\n",
    "            wbc_df = wbc_df.append(new_row, ignore_index=True)\n",
    "            \n",
    "        path = directory + 'TEST/' + wbc_type + '/'\n",
    "        files = os.listdir(path)\n",
    "        for file in tqdm(files):\n",
    "            image = plt.imread(path + file)\n",
    "            im_arr = np.array(Image.fromarray(image).resize(size))\n",
    "            im_arr = im_arr / 255.\n",
    "            X_test.append(im_arr)\n",
    "            y_test.append(i+1)\n",
    "            \n",
    "            new_row = {'file_name': file,\n",
    "                       'type': wbc_type,\n",
    "                       'group': 'test'}\n",
    "            wbc_df = wbc_df.append(new_row, ignore_index=True)\n",
    "            \n",
    "    X_train = np.asarray(X_train)\n",
    "    X_test = np.asarray(X_test)\n",
    "    y_train = to_categorical(y_train, len(classes)+1)\n",
    "    y_test = to_categorical(y_test, len(classes)+1)\n",
    "    return X_train, y_train, X_test, y_test, wbc_df\n",
    "    \n",
    "# plt.figure(figsize=(10,8))\n",
    "# df = pd.DataFrame(columns=['file_name', 'type'])\n",
    "# df['file_name'] = files\n",
    "# df.fillna(value=wbc_type, inplace=True)\n",
    "# wbc_df = wbc_df.append(df)\n",
    "    \n",
    "# image = load_img(path + files[0])\n",
    "# plt.subplot(2,2,i+1)\n",
    "# plt.title(wbc_type)\n",
    "# plt.axis('off')\n",
    "# plt.imshow(image)\n",
    "    \n",
    "# plt.tight_layout()\n",
    "# plt.show()"
   ]
  },
  {
   "cell_type": "code",
   "execution_count": 3,
   "metadata": {
    "scrolled": true
   },
   "outputs": [
    {
     "name": "stdout",
     "output_type": "stream",
     "text": [
      "Fetching Eosinophil Image Files\n"
     ]
    },
    {
     "name": "stderr",
     "output_type": "stream",
     "text": [
      "100%|█████████████████████████████████████| 2497/2497 [00:11<00:00, 214.18it/s]\n",
      "100%|███████████████████████████████████████| 623/623 [00:02<00:00, 209.47it/s]\n"
     ]
    },
    {
     "name": "stdout",
     "output_type": "stream",
     "text": [
      "Fetching Neutrophil Image Files\n"
     ]
    },
    {
     "name": "stderr",
     "output_type": "stream",
     "text": [
      "100%|█████████████████████████████████████| 2499/2499 [00:11<00:00, 210.77it/s]\n",
      "100%|███████████████████████████████████████| 624/624 [00:02<00:00, 211.09it/s]\n"
     ]
    },
    {
     "name": "stdout",
     "output_type": "stream",
     "text": [
      "Fetching Lymphocyte Image Files\n"
     ]
    },
    {
     "name": "stderr",
     "output_type": "stream",
     "text": [
      "100%|█████████████████████████████████████| 2483/2483 [00:11<00:00, 212.95it/s]\n",
      "100%|███████████████████████████████████████| 620/620 [00:02<00:00, 211.31it/s]\n"
     ]
    },
    {
     "name": "stdout",
     "output_type": "stream",
     "text": [
      "Fetching Monocyte Image Files\n"
     ]
    },
    {
     "name": "stderr",
     "output_type": "stream",
     "text": [
      "100%|█████████████████████████████████████| 2478/2478 [00:12<00:00, 198.85it/s]\n",
      "100%|███████████████████████████████████████| 620/620 [00:03<00:00, 187.29it/s]\n"
     ]
    }
   ],
   "source": [
    "wbc_types = ['EOSINOPHIL', 'NEUTROPHIL', 'LYMPHOCYTE', 'MONOCYTE']\n",
    "img_rows, img_cols = 90, 120\n",
    "size = (img_cols, img_rows)\n",
    "\n",
    "X_train, y_train, X_test, y_test, wbc_df = fetch_data('dataset2-master/images/', wbc_types, size)"
   ]
  },
  {
   "cell_type": "code",
   "execution_count": 4,
   "metadata": {},
   "outputs": [
    {
     "data": {
      "image/png": "[encoded data removed]",
      "text/plain": [
       "<Figure size 432x288 with 1 Axes>"
      ]
     },
     "metadata": {
      "needs_background": "light"
     },
     "output_type": "display_data"
    }
   ],
   "source": [
    "sns.countplot(x='group', hue='type', data=wbc_df)\n",
    "plt.show()"
   ]
  },
  {
   "cell_type": "code",
   "execution_count": 6,
   "metadata": {},
   "outputs": [
    {
     "data": {
      "text/plain": [
       "(9957, 90, 120, 3)"
      ]
     },
     "execution_count": 6,
     "metadata": {},
     "output_type": "execute_result"
    }
   ],
   "source": [
    "X_train.shape"
   ]
  },
  {
   "cell_type": "markdown",
   "metadata": {},
   "source": [
    "The images show that each of the four cell types are quite easily visually differentiable. Additionally, we can see from the countplot that our training data is very well balanced with ~2,500 images of each WBC cell type."
   ]
  },
  {
   "cell_type": "markdown",
   "metadata": {},
   "source": [
    "# Model Construction\n",
    "\n",
    "Since the input to be classified are image files, we will be using a Convolutional Neural Network for these purposes. "
   ]
  },
  {
   "cell_type": "code",
   "execution_count": 7,
   "metadata": {},
   "outputs": [],
   "source": [
    "trdata = ImageDataGenerator(\n",
    "    rotation_range=90,  # randomly rotate images in the range (degrees, 0 to 180)\n",
    "    horizontal_flip=True,  # randomly flip images\n",
    "    vertical_flip=True)  # randomly flip images)\n",
    "\n",
    "tsdata = ImageDataGenerator()"
   ]
  },
  {
   "cell_type": "code",
   "execution_count": 12,
   "metadata": {},
   "outputs": [],
   "source": [
    "input_shape = (img_rows, img_cols, 3)\n",
    "\n",
    "model = Sequential()\n",
    "\n",
    "model.add(Conv2D(32, kernel_size=(3, 3), activation='relu', input_shape=input_shape, strides=1))\n",
    "model.add(Conv2D(64, (3, 3), activation='relu'))\n",
    "model.add(MaxPool2D(pool_size=(2, 2)))\n",
    "\n",
    "model.add(Dropout(0.3))\n",
    "model.add(Flatten())\n",
    "model.add(Dense(128, activation='relu'))\n",
    "model.add(Dropout(0.3))\n",
    "model.add(Dense(len(y_train[0]), activation='softmax'))\n",
    "\n",
    "model.compile(loss=keras.losses.categorical_crossentropy,\n",
    "              optimizer=keras.optimizers.Adadelta(),\n",
    "              metrics=['accuracy'])"
   ]
  },
  {
   "cell_type": "code",
   "execution_count": 13,
   "metadata": {},
   "outputs": [
    {
     "name": "stdout",
     "output_type": "stream",
     "text": [
      "Model: \"sequential_2\"\n",
      "_________________________________________________________________\n",
      "Layer (type)                 Output Shape              Param #   \n",
      "=================================================================\n",
      "conv2d_3 (Conv2D)            (None, 88, 118, 32)       896       \n",
      "_________________________________________________________________\n",
      "conv2d_4 (Conv2D)            (None, 86, 116, 64)       18496     \n",
      "_________________________________________________________________\n",
      "max_pooling2d_2 (MaxPooling2 (None, 43, 58, 64)        0         \n",
      "_________________________________________________________________\n",
      "dropout_3 (Dropout)          (None, 43, 58, 64)        0         \n",
      "_________________________________________________________________\n",
      "flatten_2 (Flatten)          (None, 159616)            0         \n",
      "_________________________________________________________________\n",
      "dense_3 (Dense)              (None, 128)               20430976  \n",
      "_________________________________________________________________\n",
      "dropout_4 (Dropout)          (None, 128)               0         \n",
      "_________________________________________________________________\n",
      "dense_4 (Dense)              (None, 5)                 645       \n",
      "=================================================================\n",
      "Total params: 20,451,013\n",
      "Trainable params: 20,451,013\n",
      "Non-trainable params: 0\n",
      "_________________________________________________________________\n"
     ]
    }
   ],
   "source": [
    "model.summary()"
   ]
  },
  {
   "cell_type": "code",
   "execution_count": 14,
   "metadata": {
    "scrolled": true
   },
   "outputs": [
    {
     "name": "stdout",
     "output_type": "stream",
     "text": [
      "WARNING:tensorflow:From C:\\Users\\Andrew\\Anaconda3\\lib\\site-packages\\keras\\backend\\tensorflow_backend.py:422: The name tf.global_variables is deprecated. Please use tf.compat.v1.global_variables instead.\n",
      "\n",
      "Epoch 1/60\n",
      "312/311 [==============================] - 322s 1s/step - loss: 1.5628 - accuracy: 0.2755 - val_loss: 1.3514 - val_accuracy: 0.3156\n",
      "\n",
      "Epoch 00001: val_accuracy improved from -inf to 0.31564, saving model to newest_model.h5\n",
      "Epoch 2/60\n",
      "312/311 [==============================] - 312s 999ms/step - loss: 1.3396 - accuracy: 0.3375 - val_loss: 1.2018 - val_accuracy: 0.4713\n",
      "\n",
      "Epoch 00002: val_accuracy improved from 0.31564 to 0.47125, saving model to newest_model.h5\n",
      "Epoch 3/60\n",
      "312/311 [==============================] - 313s 1s/step - loss: 1.2562 - accuracy: 0.4009 - val_loss: 1.1957 - val_accuracy: 0.4399\n",
      "\n",
      "Epoch 00003: val_accuracy did not improve from 0.47125\n",
      "Epoch 4/60\n",
      "312/311 [==============================] - 309s 989ms/step - loss: 1.1528 - accuracy: 0.4562 - val_loss: 1.0235 - val_accuracy: 0.5452\n",
      "\n",
      "Epoch 00004: val_accuracy improved from 0.47125 to 0.54524, saving model to newest_model.h5\n",
      "Epoch 5/60\n",
      "312/311 [==============================] - 313s 1s/step - loss: 1.1024 - accuracy: 0.5039 - val_loss: 0.9228 - val_accuracy: 0.5794\n",
      "\n",
      "Epoch 00005: val_accuracy improved from 0.54524 to 0.57941, saving model to newest_model.h5\n",
      "Epoch 6/60\n",
      "312/311 [==============================] - 341s 1s/step - loss: 0.9901 - accuracy: 0.5477 - val_loss: 1.0182 - val_accuracy: 0.6128\n",
      "\n",
      "Epoch 00006: val_accuracy improved from 0.57941 to 0.61279, saving model to newest_model.h5\n",
      "Epoch 7/60\n",
      "312/311 [==============================] - 318s 1s/step - loss: 0.9303 - accuracy: 0.5848 - val_loss: 0.9691 - val_accuracy: 0.5553\n",
      "\n",
      "Epoch 00007: val_accuracy did not improve from 0.61279\n",
      "Epoch 8/60\n",
      "312/311 [==============================] - 303s 973ms/step - loss: 0.8364 - accuracy: 0.6234 - val_loss: 0.7288 - val_accuracy: 0.7177\n",
      "\n",
      "Epoch 00008: val_accuracy improved from 0.61279 to 0.71773, saving model to newest_model.h5\n",
      "Epoch 9/60\n",
      "312/311 [==============================] - 307s 985ms/step - loss: 0.7801 - accuracy: 0.6528 - val_loss: 1.1571 - val_accuracy: 0.6482\n",
      "\n",
      "Epoch 00009: val_accuracy did not improve from 0.71773\n",
      "Epoch 10/60\n",
      "312/311 [==============================] - 308s 986ms/step - loss: 0.7519 - accuracy: 0.6716 - val_loss: 0.5680 - val_accuracy: 0.7230\n",
      "\n",
      "Epoch 00010: val_accuracy improved from 0.71773 to 0.72296, saving model to newest_model.h5\n",
      "Epoch 11/60\n",
      "312/311 [==============================] - 306s 979ms/step - loss: 0.6825 - accuracy: 0.7102 - val_loss: 0.4502 - val_accuracy: 0.7664\n",
      "\n",
      "Epoch 00011: val_accuracy improved from 0.72296 to 0.76639, saving model to newest_model.h5\n",
      "Epoch 12/60\n",
      "312/311 [==============================] - 303s 971ms/step - loss: 0.6916 - accuracy: 0.7094 - val_loss: 1.0244 - val_accuracy: 0.6639\n",
      "\n",
      "Epoch 00012: val_accuracy did not improve from 0.76639\n",
      "Epoch 13/60\n",
      "312/311 [==============================] - 299s 957ms/step - loss: 0.6073 - accuracy: 0.7403 - val_loss: 0.7952 - val_accuracy: 0.6417\n",
      "\n",
      "Epoch 00013: val_accuracy did not improve from 0.76639\n",
      "Epoch 14/60\n",
      "312/311 [==============================] - 301s 965ms/step - loss: 0.6045 - accuracy: 0.7482 - val_loss: 0.4989 - val_accuracy: 0.6920\n",
      "\n",
      "Epoch 00014: val_accuracy did not improve from 0.76639\n",
      "Epoch 15/60\n",
      "312/311 [==============================] - 299s 957ms/step - loss: 0.6155 - accuracy: 0.7666 - val_loss: 0.4075 - val_accuracy: 0.7780\n",
      "\n",
      "Epoch 00015: val_accuracy improved from 0.76639 to 0.77805, saving model to newest_model.h5\n",
      "Epoch 16/60\n",
      "312/311 [==============================] - 302s 967ms/step - loss: 0.5291 - accuracy: 0.7765 - val_loss: 0.3379 - val_accuracy: 0.8162\n",
      "\n",
      "Epoch 00016: val_accuracy improved from 0.77805 to 0.81624, saving model to newest_model.h5\n",
      "Epoch 17/60\n",
      "312/311 [==============================] - 301s 965ms/step - loss: 0.5517 - accuracy: 0.7738 - val_loss: 0.4395 - val_accuracy: 0.7780\n",
      "\n",
      "Epoch 00017: val_accuracy did not improve from 0.81624\n",
      "Epoch 18/60\n",
      "312/311 [==============================] - 299s 957ms/step - loss: 0.5018 - accuracy: 0.7958 - val_loss: 0.3629 - val_accuracy: 0.7817\n",
      "\n",
      "Epoch 00018: val_accuracy did not improve from 0.81624\n",
      "Epoch 19/60\n",
      "312/311 [==============================] - 299s 959ms/step - loss: 0.4682 - accuracy: 0.8081 - val_loss: 0.6825 - val_accuracy: 0.7668\n",
      "\n",
      "Epoch 00019: val_accuracy did not improve from 0.81624\n",
      "Epoch 20/60\n",
      "312/311 [==============================] - 386s 1s/step - loss: 0.4561 - accuracy: 0.8144 - val_loss: 0.7212 - val_accuracy: 0.8122\n",
      "\n",
      "Epoch 00020: val_accuracy did not improve from 0.81624\n",
      "Epoch 21/60\n",
      "312/311 [==============================] - 406s 1s/step - loss: 0.4523 - accuracy: 0.8145 - val_loss: 0.5135 - val_accuracy: 0.8166\n",
      "\n",
      "Epoch 00021: val_accuracy improved from 0.81624 to 0.81665, saving model to newest_model.h5\n",
      "Epoch 22/60\n",
      "312/311 [==============================] - 404s 1s/step - loss: 0.4071 - accuracy: 0.8373 - val_loss: 0.4384 - val_accuracy: 0.8138\n",
      "\n",
      "Epoch 00022: val_accuracy did not improve from 0.81665\n",
      "Epoch 23/60\n",
      "312/311 [==============================] - 402s 1s/step - loss: 0.4047 - accuracy: 0.8360 - val_loss: 0.4859 - val_accuracy: 0.8179\n",
      "\n",
      "Epoch 00023: val_accuracy improved from 0.81665 to 0.81785, saving model to newest_model.h5\n",
      "Epoch 24/60\n",
      "312/311 [==============================] - 404s 1s/step - loss: 0.3924 - accuracy: 0.8348 - val_loss: 0.5771 - val_accuracy: 0.8247\n",
      "\n",
      "Epoch 00024: val_accuracy improved from 0.81785 to 0.82469, saving model to newest_model.h5\n",
      "Epoch 25/60\n",
      "312/311 [==============================] - 403s 1s/step - loss: 0.3934 - accuracy: 0.8433 - val_loss: 0.9253 - val_accuracy: 0.5818\n",
      "\n",
      "Epoch 00025: val_accuracy did not improve from 0.82469\n",
      "Epoch 26/60\n",
      "312/311 [==============================] - 405s 1s/step - loss: 0.3725 - accuracy: 0.8484 - val_loss: 0.9799 - val_accuracy: 0.6972\n",
      "\n",
      "Epoch 00026: val_accuracy did not improve from 0.82469\n",
      "Epoch 27/60\n",
      "312/311 [==============================] - 307s 983ms/step - loss: 0.3664 - accuracy: 0.8482 - val_loss: 1.1574 - val_accuracy: 0.6068\n",
      "\n",
      "Epoch 00027: val_accuracy did not improve from 0.82469\n",
      "Epoch 28/60\n",
      "312/311 [==============================] - 300s 962ms/step - loss: 0.3659 - accuracy: 0.8530 - val_loss: 0.7641 - val_accuracy: 0.7861\n",
      "\n",
      "Epoch 00028: val_accuracy did not improve from 0.82469\n",
      "Epoch 29/60\n",
      "312/311 [==============================] - 301s 966ms/step - loss: 0.4442 - accuracy: 0.8332 - val_loss: 0.9376 - val_accuracy: 0.7121\n",
      "\n",
      "Epoch 00029: val_accuracy did not improve from 0.82469\n",
      "Epoch 30/60\n",
      "312/311 [==============================] - 302s 967ms/step - loss: 0.3250 - accuracy: 0.8698 - val_loss: 0.4918 - val_accuracy: 0.8283\n",
      "\n",
      "Epoch 00030: val_accuracy improved from 0.82469 to 0.82831, saving model to newest_model.h5\n",
      "Epoch 31/60\n",
      "312/311 [==============================] - 295s 946ms/step - loss: 0.3436 - accuracy: 0.8673 - val_loss: 0.5946 - val_accuracy: 0.7374\n",
      "\n",
      "Epoch 00031: val_accuracy did not improve from 0.82831\n",
      "Epoch 32/60\n",
      "312/311 [==============================] - 302s 969ms/step - loss: 0.3125 - accuracy: 0.8800 - val_loss: 0.1658 - val_accuracy: 0.8436\n",
      "\n",
      "Epoch 00032: val_accuracy improved from 0.82831 to 0.84359, saving model to newest_model.h5\n",
      "Epoch 33/60\n",
      "312/311 [==============================] - 300s 962ms/step - loss: 0.2986 - accuracy: 0.8893 - val_loss: 0.4992 - val_accuracy: 0.8050\n",
      "\n",
      "Epoch 00033: val_accuracy did not improve from 0.84359\n",
      "Epoch 34/60\n",
      "312/311 [==============================] - 303s 971ms/step - loss: 0.3587 - accuracy: 0.8651 - val_loss: 0.3907 - val_accuracy: 0.8319\n",
      "\n",
      "Epoch 00034: val_accuracy did not improve from 0.84359\n",
      "Epoch 35/60\n",
      "312/311 [==============================] - 301s 965ms/step - loss: 0.2869 - accuracy: 0.8891 - val_loss: 0.0837 - val_accuracy: 0.8544\n",
      "\n",
      "Epoch 00035: val_accuracy improved from 0.84359 to 0.85444, saving model to newest_model.h5\n",
      "Epoch 36/60\n",
      "312/311 [==============================] - 299s 960ms/step - loss: 0.2777 - accuracy: 0.8901 - val_loss: 0.3998 - val_accuracy: 0.8303\n",
      "\n",
      "Epoch 00036: val_accuracy did not improve from 0.85444\n",
      "Epoch 37/60\n",
      "312/311 [==============================] - 302s 970ms/step - loss: 0.2748 - accuracy: 0.8897 - val_loss: 0.4034 - val_accuracy: 0.8351\n"
     ]
    },
    {
     "name": "stdout",
     "output_type": "stream",
     "text": [
      "\n",
      "Epoch 00037: val_accuracy did not improve from 0.85444\n",
      "Epoch 38/60\n",
      "312/311 [==============================] - 300s 963ms/step - loss: 0.2841 - accuracy: 0.8919 - val_loss: 0.3664 - val_accuracy: 0.8392\n",
      "\n",
      "Epoch 00038: val_accuracy did not improve from 0.85444\n",
      "Epoch 39/60\n",
      "312/311 [==============================] - 297s 953ms/step - loss: 0.2717 - accuracy: 0.8936 - val_loss: 0.3578 - val_accuracy: 0.7817\n",
      "\n",
      "Epoch 00039: val_accuracy did not improve from 0.85444\n",
      "Epoch 40/60\n",
      "312/311 [==============================] - 301s 965ms/step - loss: 0.2656 - accuracy: 0.8957 - val_loss: 1.1906 - val_accuracy: 0.8183\n",
      "\n",
      "Epoch 00040: val_accuracy did not improve from 0.85444\n",
      "Epoch 41/60\n",
      "312/311 [==============================] - 328s 1s/step - loss: 0.2424 - accuracy: 0.9126 - val_loss: 0.3496 - val_accuracy: 0.8138\n",
      "\n",
      "Epoch 00041: val_accuracy did not improve from 0.85444\n",
      "Epoch 42/60\n",
      "312/311 [==============================] - 405s 1s/step - loss: 0.3960 - accuracy: 0.8830 - val_loss: 0.2383 - val_accuracy: 0.8629\n",
      "\n",
      "Epoch 00042: val_accuracy improved from 0.85444 to 0.86289, saving model to newest_model.h5\n",
      "Epoch 43/60\n",
      "312/311 [==============================] - 406s 1s/step - loss: 0.2683 - accuracy: 0.9020 - val_loss: 0.7990 - val_accuracy: 0.8452\n",
      "\n",
      "Epoch 00043: val_accuracy did not improve from 0.86289\n",
      "Epoch 44/60\n",
      "312/311 [==============================] - 408s 1s/step - loss: 0.2489 - accuracy: 0.9103 - val_loss: 0.1785 - val_accuracy: 0.8609\n",
      "\n",
      "Epoch 00044: val_accuracy did not improve from 0.86289\n",
      "Epoch 45/60\n",
      "312/311 [==============================] - 404s 1s/step - loss: 0.2297 - accuracy: 0.9138 - val_loss: 0.3183 - val_accuracy: 0.8601\n",
      "\n",
      "Epoch 00045: val_accuracy did not improve from 0.86289\n",
      "Epoch 46/60\n",
      "312/311 [==============================] - 407s 1s/step - loss: 0.2211 - accuracy: 0.9159 - val_loss: 0.3239 - val_accuracy: 0.8556\n",
      "\n",
      "Epoch 00046: val_accuracy did not improve from 0.86289\n",
      "Epoch 47/60\n",
      "312/311 [==============================] - 384s 1s/step - loss: 0.2178 - accuracy: 0.9189 - val_loss: 0.1834 - val_accuracy: 0.8376\n",
      "\n",
      "Epoch 00047: val_accuracy did not improve from 0.86289\n",
      "Epoch 48/60\n",
      "312/311 [==============================] - 298s 956ms/step - loss: 0.2180 - accuracy: 0.9169 - val_loss: 0.6969 - val_accuracy: 0.7411\n",
      "\n",
      "Epoch 00048: val_accuracy did not improve from 0.86289\n",
      "Epoch 49/60\n",
      "312/311 [==============================] - 301s 964ms/step - loss: 0.2285 - accuracy: 0.9190 - val_loss: 0.6304 - val_accuracy: 0.8520\n",
      "\n",
      "Epoch 00049: val_accuracy did not improve from 0.86289\n",
      "Epoch 50/60\n",
      "312/311 [==============================] - 302s 967ms/step - loss: 0.2155 - accuracy: 0.9203 - val_loss: 0.7198 - val_accuracy: 0.8754\n",
      "\n",
      "Epoch 00050: val_accuracy improved from 0.86289 to 0.87535, saving model to newest_model.h5\n",
      "Epoch 51/60\n",
      "312/311 [==============================] - 302s 967ms/step - loss: 0.2112 - accuracy: 0.9210 - val_loss: 0.4501 - val_accuracy: 0.8625\n",
      "\n",
      "Epoch 00051: val_accuracy did not improve from 0.87535\n",
      "Epoch 52/60\n",
      "312/311 [==============================] - 301s 965ms/step - loss: 0.2508 - accuracy: 0.9099 - val_loss: 0.7038 - val_accuracy: 0.8392\n",
      "\n",
      "Epoch 00052: val_accuracy did not improve from 0.87535\n",
      "Epoch 53/60\n",
      "312/311 [==============================] - 303s 970ms/step - loss: 0.2052 - accuracy: 0.9198 - val_loss: 1.6994 - val_accuracy: 0.8613\n",
      "\n",
      "Epoch 00053: val_accuracy did not improve from 0.87535\n",
      "Epoch 54/60\n",
      "312/311 [==============================] - 401s 1s/step - loss: 0.1993 - accuracy: 0.9239 - val_loss: 0.1238 - val_accuracy: 0.8633\n",
      "\n",
      "Epoch 00054: val_accuracy did not improve from 0.87535\n",
      "Epoch 55/60\n",
      "312/311 [==============================] - 405s 1s/step - loss: 0.2140 - accuracy: 0.9255 - val_loss: 0.2969 - val_accuracy: 0.8657\n",
      "\n",
      "Epoch 00055: val_accuracy did not improve from 0.87535\n",
      "Epoch 56/60\n",
      "312/311 [==============================] - 300s 960ms/step - loss: 0.1877 - accuracy: 0.9321 - val_loss: 0.6613 - val_accuracy: 0.8496\n",
      "\n",
      "Epoch 00056: val_accuracy did not improve from 0.87535\n",
      "Epoch 57/60\n",
      "312/311 [==============================] - 302s 967ms/step - loss: 0.1972 - accuracy: 0.9269 - val_loss: 0.1805 - val_accuracy: 0.8223\n",
      "\n",
      "Epoch 00057: val_accuracy did not improve from 0.87535\n",
      "Epoch 58/60\n",
      "312/311 [==============================] - 303s 970ms/step - loss: 0.1803 - accuracy: 0.9340 - val_loss: 0.1754 - val_accuracy: 0.8729\n",
      "\n",
      "Epoch 00058: val_accuracy did not improve from 0.87535\n",
      "Epoch 59/60\n",
      "312/311 [==============================] - 302s 968ms/step - loss: 0.2088 - accuracy: 0.9215 - val_loss: 0.5241 - val_accuracy: 0.8693\n",
      "\n",
      "Epoch 00059: val_accuracy did not improve from 0.87535\n",
      "Epoch 60/60\n",
      "312/311 [==============================] - 302s 969ms/step - loss: 0.2027 - accuracy: 0.9261 - val_loss: 0.0982 - val_accuracy: 0.8440\n",
      "\n",
      "Epoch 00060: val_accuracy did not improve from 0.87535\n"
     ]
    }
   ],
   "source": [
    "from keras.callbacks import ModelCheckpoint, EarlyStopping\n",
    "\n",
    "checkpoint = ModelCheckpoint(\"newest_model.h5\",\n",
    "                             monitor='val_accuracy',\n",
    "                             verbose=1,\n",
    "                             save_best_only=True,\n",
    "                             save_weights_only=False,\n",
    "                             mode='auto',\n",
    "                             period=1)\n",
    "\n",
    "early = EarlyStopping(monitor='val_accuracy',\n",
    "                      min_delta=0,\n",
    "                      patience=20,\n",
    "                      verbose=1,\n",
    "                      mode='auto')\n",
    "\n",
    "hist = model.fit_generator(trdata.flow(X_train, y_train, batch_size=32),\n",
    "                              steps_per_epoch=len(X_train) / 32,\n",
    "                              epochs=60,\n",
    "                              validation_data = tsdata.flow(X_test, y_test, batch_size=32),\n",
    "                              callbacks=[checkpoint, early])"
   ]
  },
  {
   "cell_type": "code",
   "execution_count": 15,
   "metadata": {},
   "outputs": [],
   "source": [
    "def plot_learning_curve(history):\n",
    "    plt.figure(figsize=(15,8))\n",
    "    plt.subplot(1,2,1)\n",
    "    plt.plot(history.history['accuracy'])\n",
    "    plt.plot(history.history['val_accuracy'])\n",
    "    plt.title('model accuracy')\n",
    "    plt.ylabel('accuracy')\n",
    "    plt.xlabel('epoch')\n",
    "    plt.legend(['train', 'test'], loc='upper left')\n",
    "    #plt.savefig('./accuracy_curve.png')\n",
    "    #plt.clf()\n",
    "    # summarize history for loss\n",
    "    plt.subplot(1,2,2)\n",
    "    plt.plot(history.history['loss'])\n",
    "    plt.plot(history.history['val_loss'])\n",
    "    plt.title('model loss')\n",
    "    plt.ylabel('loss')\n",
    "    plt.xlabel('epoch')\n",
    "    plt.legend(['train', 'test'], loc='upper left')\n",
    "    #plt.savefig('./loss_curve.png')"
   ]
  },
  {
   "cell_type": "code",
   "execution_count": 16,
   "metadata": {},
   "outputs": [
    {
     "data": {
      "image/png": "[encoded data removed]",
      "text/plain": [
       "<Figure size 1080x576 with 2 Axes>"
      ]
     },
     "metadata": {
      "needs_background": "light"
     },
     "output_type": "display_data"
    }
   ],
   "source": [
    "plot_learning_curve(hist)"
   ]
  },
  {
   "cell_type": "code",
   "execution_count": null,
   "metadata": {},
   "outputs": [],
   "source": []
  }
 ],
 "metadata": {
  "kernelspec": {
   "display_name": "Python 3",
   "language": "python",
   "name": "python3"
  },
  "language_info": {
   "codemirror_mode": {
    "name": "ipython",
    "version": 3
   },
   "file_extension": ".py",
   "mimetype": "text/x-python",
   "name": "python",
   "nbconvert_exporter": "python",
   "pygments_lexer": "ipython3",
   "version": "3.7.4"
  }
 },
 "nbformat": 4,
 "nbformat_minor": 4
}
